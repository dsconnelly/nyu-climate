{
 "cells": [
  {
   "cell_type": "code",
   "execution_count": 1,
   "id": "muslim-criterion",
   "metadata": {},
   "outputs": [],
   "source": [
    "import matplotlib.pyplot as plt\n",
    "import numpy as np\n",
    "from scipy.integrate import odeint\n",
    "\n",
    "%matplotlib inline"
   ]
  },
  {
   "cell_type": "markdown",
   "id": "supreme-think",
   "metadata": {},
   "source": [
    "$\\newcommand{\\d}[2]{\\frac{\\mathrm{d}{#1}}{\\mathrm{d}{#2}}}$We begin by addressing coordinate transformations in the vertical. First, we look at conversions between optical depth and pressure. To capture band-broadening effects, we will write $\\kappa = 2Cp$ for some yet-to-be-determined constant of proportionality $C$. Then\n",
    "$$\\d{\\tau}{p} = -\\frac{2Cp}{g}$$\n",
    "which can be integrated to yield\n",
    "$$-g\\tau = Cp^2 + D$$\n",
    "for a constant of integration $D$. We have two boundary conditions: $\\tau(p = 0) = \\tau_\\infty$ and $\\tau(p = p_\\textrm{s}) = 0$, where $p_\\textrm{s}$ is some reasonable surface pressure. These conditions ultimately amount to\n",
    "$$p = p_\\textrm{s}\\left(1 - \\frac{\\tau}{\\tau_\\infty}\\right)^{1/2}$$\n",
    "Then hydrostatic balance gives\n",
    "$$\\d{p}{z} = -\\frac{gp}{RT}$$\n",
    "If we replace $T$ by a constant $T_0$, the above can be solved as\n",
    "$$z = -\\frac{RT_0}{g}\\ln \\frac{p}{p_\\textrm{s}}$$\n",
    "What we will actually need is expressions relating $\\tau$ and $z$. Eliminating pressure, these are\n",
    "$$\\boxed{z = -\\frac{RT_0}{2g}\\ln\\left(1 - \\frac{\\tau}{\\tau_\\infty}\\right) \\textrm{ or } \\tau = \\tau_\\infty\\left(1 - e^{-(2gz)/(RT_0)}\\right)}$$\n",
    "For now, we just take $T_0 = 260 \\textrm{ K}$, and define it along with the other necessary constants below. For Earth-like results, we should take $2 \\leq \\tau_\\infty \\leq 5$."
   ]
  },
  {
   "cell_type": "code",
   "execution_count": 2,
   "id": "structured-dispatch",
   "metadata": {},
   "outputs": [],
   "source": [
    "tau_inf = 3\n",
    "R = 287.1\n",
    "g = 9.8\n",
    "T_0 = 260"
   ]
  },
  {
   "cell_type": "markdown",
   "id": "injured-wonder",
   "metadata": {},
   "source": [
    "With this in hand, we provide functions for coordinate transformations in both directions."
   ]
  },
  {
   "cell_type": "code",
   "execution_count": 3,
   "id": "twenty-triangle",
   "metadata": {},
   "outputs": [],
   "source": [
    "def z_from_tau(tau):\n",
    "    return -((R * T_0) / (2 * g)) * np.log(1 - (tau / tau_inf))\n",
    "\n",
    "def tau_from_z(z):\n",
    "    return tau_inf * (1 - np.exp(-(2 * g * z) / (R * T_0)))"
   ]
  },
  {
   "cell_type": "markdown",
   "id": "enclosed-trinity",
   "metadata": {},
   "source": [
    "Next, we treat the radiation problem. Let us state the gray gas radiative transfer problem. The upward and downward fluxes, expressed as function of the optical thickness $\\tau$, are denoted $I_+$ and $I_-$, respectively. The system of equations to be solved is then\n",
    "$$\n",
    "\\begin{align*}\n",
    "\\d{}{\\tau}I_+ &= -I_+ + \\sigma T^4 \\\\\n",
    "\\d{}{\\tau}I_- &= I_- - \\sigma T^4\n",
    "\\end{align*}\n",
    "$$\n",
    "where in the above $T$ is also a function of $\\tau$. For convenience, we define the solar flux received by the planet\n",
    "$$F \\equiv \\frac{S_0}{4}(1 - \\alpha)$$\n",
    "Then the boundary condition at the bottom of the atmosphere is\n",
    "$$I_+(0) = I_-(0) + F$$\n",
    "which indicates that the surface is in equilibrium, with the downwelling longwave and solar fluxes balanced by upwelling radiation solely in the infrared. Meanwhile, the boundary conditions at the top of the atmosphere are\n",
    "$$\n",
    "\\begin{align*}\n",
    "I_+(\\tau_\\infty) &= F \\\\\n",
    "I_-(\\tau_\\infty) &= 0\n",
    "\\end{align*}\n",
    "$$\n",
    "which ensures that the planet is in equilibrium with space.\n",
    "\n",
    "Now, given any profile $T(\\tau)$, it is fairly straightforward to calculate the resulting radiation profiles, if not analytically then numerically. However, we wish to choose the particular temperature profile that removes residual heating. That is, we would like the solutions to satisfy\n",
    "$$\\d{}{\\tau}\\left[I_+ - I_-\\right] = 0 \\textrm{ for all } \\tau \\in [0, \\tau_\\infty]$$\n",
    "for all $\\tau$. Employing either boundary condition, this is equivalent to\n",
    "$$I_+ - I_- = F \\textrm{ for all } \\tau \\in [0, \\tau_\\infty]$$\n",
    "\n",
    "The divergence-free condition can be written as\n",
    "$$\\d{}{\\tau}I_+ = \\d{}{\\tau}I_-$$\n",
    "Then, using the expressions from the original gray gas system and rearranging, we get\n",
    "$$\\zeta \\equiv 2\\sigma T^4 = I_+ + I_-$$\n",
    "Purely as a notational convenience, we will solve for $\\zeta$ and then trivially recover $T$. Differentiating the above gives a differential equation for $\\zeta$:\n",
    "$$\n",
    "\\begin{align*}\n",
    "\\d{\\zeta}{\\tau} &= \\d{}{\\tau}I_+ + \\d{}{\\tau}I_- \\\\\n",
    " &= -(I_+ - I_-) \\\\\n",
    " &= -F\n",
    "\\end{align*}\n",
    "$$\n",
    "Moreover, we can use the boundary conditions on radiation at the top of the atmosphere to write\n",
    "$$\n",
    "\\begin{align*}\n",
    "\\zeta(\\tau_\\infty) &= I_+(\\tau_\\infty) + I_-(\\tau_\\infty) \\\\\n",
    " &= F\n",
    "\\end{align*}\n",
    "$$\n",
    "Thus we have an easily solvable differential equation for $\\zeta$. The solution is\n",
    "$$\\zeta(\\tau) = F(1 + \\tau_\\infty - \\tau)$$\n",
    "Finally, using the original definition of $\\zeta$, we can compute the temperature profile in terms of $\\tau$\n",
    "$$\\boxed{T(\\tau) = \\left(\\frac{F\\left(1 + \\tau_\\infty - \\tau\\right)}{2\\sigma}\\right)^{1 / 4}}$$\n",
    "Let us declare the necessary constants."
   ]
  },
  {
   "cell_type": "code",
   "execution_count": 4,
   "id": "supposed-broadway",
   "metadata": {},
   "outputs": [],
   "source": [
    "sigma = 5.67e-8\n",
    "S_0 = 1362\n",
    "alpha = 0.3"
   ]
  },
  {
   "cell_type": "markdown",
   "id": "formal-costa",
   "metadata": {},
   "source": [
    "We calculate $F$ as defined above."
   ]
  },
  {
   "cell_type": "code",
   "execution_count": 5,
   "id": "early-warehouse",
   "metadata": {},
   "outputs": [],
   "source": [
    "F = S_0 * (1 - alpha) / 4"
   ]
  },
  {
   "cell_type": "markdown",
   "id": "limiting-carbon",
   "metadata": {},
   "source": [
    "At last, we implement the temperature profile calculated above."
   ]
  },
  {
   "cell_type": "code",
   "execution_count": 6,
   "id": "diagnostic-singer",
   "metadata": {},
   "outputs": [],
   "source": [
    "def T_rad(tau):\n",
    "    return ((F / (2 * sigma)) * (1 + tau_inf - tau)) ** (1 / 4)"
   ]
  },
  {
   "cell_type": "markdown",
   "id": "aggregate-payment",
   "metadata": {},
   "source": [
    "Let us declare some coordinate arrays and calculate the temperature profile in radiative equilibrium. The `RuntimeWarning` is just indicating that the point at $\\tau_\\infty$ is being mapped to $z = \\infty$, which is the expected behavior."
   ]
  },
  {
   "cell_type": "code",
   "execution_count": 7,
   "id": "speaking-novelty",
   "metadata": {},
   "outputs": [
    {
     "name": "stderr",
     "output_type": "stream",
     "text": [
      "<ipython-input-3-7c8878c6c747>:2: RuntimeWarning: divide by zero encountered in log\n",
      "  return -((R * T_0) / (2 * g)) * np.log(1 - (tau / tau_inf))\n"
     ]
    }
   ],
   "source": [
    "tau = np.linspace(0, tau_inf, 5000)\n",
    "z = z_from_tau(tau)\n",
    "T_rad_prof = T_rad(tau)"
   ]
  },
  {
   "cell_type": "markdown",
   "id": "green-formation",
   "metadata": {},
   "source": [
    "We plot the profile in $z$ coordinates."
   ]
  },
  {
   "cell_type": "code",
   "execution_count": 8,
   "id": "indoor-socket",
   "metadata": {},
   "outputs": [
    {
     "data": {
      "text/plain": [
       "Text(0, 0.5, '$z$ (m)')"
      ]
     },
     "execution_count": 8,
     "metadata": {},
     "output_type": "execute_result"
    },
    {
     "data": {
      "image/png": "[encoded data removed]",
      "text/plain": [
       "<Figure size 432x288 with 1 Axes>"
      ]
     },
     "metadata": {
      "needs_background": "light"
     },
     "output_type": "display_data"
    }
   ],
   "source": [
    "_, ax = plt.subplots()\n",
    "ax.plot(T_rad_prof, z, color='k')\n",
    "\n",
    "ax.set_xlim(T_rad_prof.min(), T_rad_prof.max())\n",
    "ax.set_ylim(0, z[-2])\n",
    "\n",
    "ax.set_xlabel('$T$ (K)')\n",
    "ax.set_ylabel('$z$ (m)')"
   ]
  },
  {
   "cell_type": "markdown",
   "id": "saved-microwave",
   "metadata": {},
   "source": [
    "In addition, we might also be interested in the temperature of the atmosphere right above the surface."
   ]
  },
  {
   "cell_type": "code",
   "execution_count": 9,
   "id": "special-disaster",
   "metadata": {},
   "outputs": [
    {
     "name": "stdout",
     "output_type": "stream",
     "text": [
      "bottom of atmosphere temperature: 302.81 K\n"
     ]
    }
   ],
   "source": [
    "print('bottom of atmosphere temperature:', round(T_rad_prof[0], 2), 'K')"
   ]
  },
  {
   "cell_type": "markdown",
   "id": "mexican-twenty",
   "metadata": {},
   "source": [
    "Next, we want to be able to calculate the actual radiative fluxes - that is, $I_+$ and $I_-$ as defined above. We use the `scipy.integrate.odeint` solver."
   ]
  },
  {
   "cell_type": "code",
   "execution_count": 10,
   "id": "tamil-married",
   "metadata": {},
   "outputs": [],
   "source": [
    "def radiative_fluxes(T_func):\n",
    "    def odefunc(I, tau):\n",
    "        diss = sigma * (T_func(tau) ** 4)\n",
    "    \n",
    "        out = np.zeros(2)\n",
    "        out[0] = -I[0] + diss\n",
    "        out[1] = I[1] - diss\n",
    "    \n",
    "        return out\n",
    "    \n",
    "    I = odeint(odefunc, y0=np.array([F, 0]), t=tau[::-1])\n",
    "    return I.T[:, ::-1]"
   ]
  },
  {
   "cell_type": "markdown",
   "id": "atmospheric-christmas",
   "metadata": {},
   "source": [
    "We can use the above function to calculate the radiative flux profiles for radiative equilibrium. In particular, we can compute the ground temperature."
   ]
  },
  {
   "cell_type": "code",
   "execution_count": 11,
   "id": "everyday-andorra",
   "metadata": {},
   "outputs": [
    {
     "name": "stdout",
     "output_type": "stream",
     "text": [
      "ground temperature: 320.18 K\n"
     ]
    }
   ],
   "source": [
    "I_plus, I_minus = radiative_fluxes(T_rad)\n",
    "T_g = (I_plus[0] / sigma) ** (1 / 4)\n",
    "print('ground temperature:', round(T_g, 2), 'K')"
   ]
  },
  {
   "cell_type": "markdown",
   "id": "sweet-foundation",
   "metadata": {},
   "source": [
    "Finally, for radiative-convective equilibrium, we wish to choose a tropopause height so that the troposphere heating works out to zero. That is, we want\n",
    "$$\n",
    "\\begin{align*}\n",
    "0 &= \\int_0^{\\tau_\\textrm{tp}} \\d{}{\\tau}\\left[I_+ - I_-\\right] \\mathrm{d} \\tau \\\\\n",
    " &= \\left(I_+ - I_-\\right)\\bigg|_0^{\\tau_\\textrm{tp}} \\\\\n",
    "\\end{align*}\n",
    "$$\n",
    "where $\\tau_\\textrm{tp}$ is the optical depth at the top of the troposphere. For lack of a better method, we simply iterate over a wide range of plausible heights, and choose the one for which the troposphere heating comes closest to zero. First, though, we need to declare the lapse rate - we use the moist average, so that $\\Gamma = -7.5 \\textrm{ K km}^{-1}$."
   ]
  },
  {
   "cell_type": "code",
   "execution_count": 12,
   "id": "public-plaintiff",
   "metadata": {},
   "outputs": [],
   "source": [
    "Gamma = -7.5e-3"
   ]
  },
  {
   "cell_type": "markdown",
   "id": "fiscal-consumption",
   "metadata": {},
   "source": [
    "Now, we implement the loop."
   ]
  },
  {
   "cell_type": "code",
   "execution_count": 13,
   "id": "agricultural-vatican",
   "metadata": {},
   "outputs": [
    {
     "name": "stderr",
     "output_type": "stream",
     "text": [
      "<ipython-input-3-7c8878c6c747>:2: RuntimeWarning: divide by zero encountered in log\n",
      "  return -((R * T_0) / (2 * g)) * np.log(1 - (tau / tau_inf))\n"
     ]
    },
    {
     "name": "stdout",
     "output_type": "stream",
     "text": [
      "tropopause height: 7591.92 m\n",
      "troposphere heating: 0.42 W m^-2\n"
     ]
    }
   ],
   "source": [
    "best_score, best_i = np.inf, None\n",
    "for i in range(3000, 4900):\n",
    "    def T_func(tau):\n",
    "        lev = z_from_tau(tau)\n",
    "        \n",
    "        if lev >= z[i]:\n",
    "            return T_rad(tau)\n",
    "        else:\n",
    "            return T_rad_prof[i] - Gamma * (z[i] - lev)\n",
    "        \n",
    "    I_plus, I_minus = radiative_fluxes(T_func)\n",
    "    score = abs(I_plus[i] - I_minus[i] - I_plus[0] + I_minus[0])\n",
    "    if score < best_score:\n",
    "        best_score = score\n",
    "        best_i = i\n",
    "        \n",
    "print('tropopause height:', round(z[best_i], 2), 'm')\n",
    "print('troposphere heating:', round(best_score, 2), 'W m^-2')"
   ]
  },
  {
   "cell_type": "markdown",
   "id": "double-friendly",
   "metadata": {},
   "source": [
    "We implement a function to calculate the temperature profile in radiative-convective equilibrium."
   ]
  },
  {
   "cell_type": "code",
   "execution_count": 14,
   "id": "derived-journal",
   "metadata": {},
   "outputs": [],
   "source": [
    "def T_rce(tau):\n",
    "    lev = z_from_tau(tau)\n",
    "\n",
    "    if lev >= z[best_i]:\n",
    "        return T_rad(tau)\n",
    "    else:\n",
    "        return T_rad_prof[best_i] - Gamma * (z[best_i] - lev)"
   ]
  },
  {
   "cell_type": "markdown",
   "id": "severe-helen",
   "metadata": {},
   "source": [
    "Now, we can plot the temperature profiles of radiative and radiative-convective equilibria side-by-side."
   ]
  },
  {
   "cell_type": "code",
   "execution_count": 15,
   "id": "fifty-event",
   "metadata": {},
   "outputs": [
    {
     "name": "stderr",
     "output_type": "stream",
     "text": [
      "<ipython-input-3-7c8878c6c747>:2: RuntimeWarning: divide by zero encountered in log\n",
      "  return -((R * T_0) / (2 * g)) * np.log(1 - (tau / tau_inf))\n"
     ]
    },
    {
     "data": {
      "text/plain": [
       "<matplotlib.legend.Legend at 0x7fba7ee5e9d0>"
      ]
     },
     "execution_count": 15,
     "metadata": {},
     "output_type": "execute_result"
    },
    {
     "data": {
      "image/png": "[encoded data removed]",
      "text/plain": [
       "<Figure size 432x288 with 1 Axes>"
      ]
     },
     "metadata": {
      "needs_background": "light"
     },
     "output_type": "display_data"
    }
   ],
   "source": [
    "T_rce_prof = np.array([T_rce(t) for t in tau])\n",
    "\n",
    "_, ax = plt.subplots()\n",
    "ax.plot(T_rad_prof, z, color='k', ls='dashed', label='RE')\n",
    "ax.plot(T_rce_prof, z, color='b', ls='dashed', label='RCE')\n",
    "\n",
    "ax.set_xlim(T_rad_prof.min(), T_rad_prof.max())\n",
    "ax.set_ylim(0, z[-2])\n",
    "\n",
    "ax.set_xlabel('$T$ (K)')\n",
    "ax.set_ylabel('$z$ (m)')\n",
    "\n",
    "ax.legend()"
   ]
  },
  {
   "cell_type": "markdown",
   "id": "collaborative-myrtle",
   "metadata": {},
   "source": [
    "Finally, we can look at the temperatures of the bottom of the atmosphere and the ground under RCE."
   ]
  },
  {
   "cell_type": "code",
   "execution_count": 16,
   "id": "distributed-madison",
   "metadata": {},
   "outputs": [
    {
     "name": "stdout",
     "output_type": "stream",
     "text": [
      "bottom of atmosphere temperature: 290.21 K\n",
      "ground temperature: 316.05 K\n"
     ]
    },
    {
     "name": "stderr",
     "output_type": "stream",
     "text": [
      "<ipython-input-3-7c8878c6c747>:2: RuntimeWarning: divide by zero encountered in log\n",
      "  return -((R * T_0) / (2 * g)) * np.log(1 - (tau / tau_inf))\n"
     ]
    }
   ],
   "source": [
    "I_plus, I_minus = radiative_fluxes(T_rce)\n",
    "T_g = (I_plus[0] / sigma) ** (1 / 4)\n",
    "\n",
    "print('bottom of atmosphere temperature:', round(T_rce_prof[0], 2), 'K')\n",
    "print('ground temperature:', round(T_g, 2), 'K')"
   ]
  }
 ],
 "metadata": {
  "kernelspec": {
   "display_name": "Python 3",
   "language": "python",
   "name": "python3"
  },
  "language_info": {
   "codemirror_mode": {
    "name": "ipython",
    "version": 3
   },
   "file_extension": ".py",
   "mimetype": "text/x-python",
   "name": "python",
   "nbconvert_exporter": "python",
   "pygments_lexer": "ipython3",
   "version": "3.8.5"
  }
 },
 "nbformat": 4,
 "nbformat_minor": 5
}
