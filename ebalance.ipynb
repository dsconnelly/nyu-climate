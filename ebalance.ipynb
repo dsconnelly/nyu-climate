{
 "cells": [
  {
   "cell_type": "code",
   "execution_count": 51,
   "id": "floppy-sense",
   "metadata": {},
   "outputs": [],
   "source": [
    "import matplotlib.pyplot as plt\n",
    "import numpy as np\n",
    "from scipy.integrate import solve_bvp"
   ]
  },
  {
   "cell_type": "markdown",
   "id": "reserved-salmon",
   "metadata": {},
   "source": [
    "The fundamental equation governing our climate model is\n",
    "$$c_p \\frac{\\partial T}{\\partial t}(\\varphi) = S(\\varphi)\\left[1 - \\alpha(\\varphi)\\right] - \\left(1 - \\frac{\\epsilon}{2}\\right)\\sigma T^4(\\varphi) + D\\frac{\\partial^2 T}{\\partial\\varphi^2}(\\varphi)$$\n",
    "where $T$ is the surface temperature. Since the heat capacity $c_p$ will be multiplied by the time step $\\mathrm{d}t$, which is a free parameter, we neglect $c_p$ in what follows."
   ]
  },
  {
   "cell_type": "markdown",
   "id": "ethical-avenue",
   "metadata": {},
   "source": [
    "## Parameters and Constants ##"
   ]
  },
  {
   "cell_type": "code",
   "execution_count": 52,
   "id": "assigned-sight",
   "metadata": {},
   "outputs": [],
   "source": [
    "n_lats = 2000\n",
    "dt = 0.00001\n",
    "eps = 0.75\n",
    "S_0 = 1362\n",
    "D = 0.01\n",
    "sigma = 5.67e-8"
   ]
  },
  {
   "cell_type": "markdown",
   "id": "enhanced-pierce",
   "metadata": {},
   "source": [
    "Next, we create the latitude array and note the latitude step size."
   ]
  },
  {
   "cell_type": "code",
   "execution_count": 53,
   "id": "advisory-group",
   "metadata": {},
   "outputs": [],
   "source": [
    "phi = np.linspace(-np.pi / 2, np.pi / 2, n_lats)\n",
    "dphi = phi[1] - phi[0]"
   ]
  },
  {
   "cell_type": "markdown",
   "id": "transsexual-tower",
   "metadata": {},
   "source": [
    "Here is where we can change the initial temperature to see what equilibria can be reached depending on initial conditions."
   ]
  },
  {
   "cell_type": "code",
   "execution_count": 54,
   "id": "racial-turner",
   "metadata": {},
   "outputs": [],
   "source": [
    "T_0 = 285 * np.ones(phi.shape)"
   ]
  },
  {
   "cell_type": "markdown",
   "id": "controversial-pottery",
   "metadata": {},
   "source": [
    "## Insolation and Albedo ##\n",
    "The first thing we need to do is determine the insolation as a function of latitude $\\varphi$ and obliquity $\\beta$. This is mostly a question of geometry. For now, we omit assume $\\beta = 0$ so that there is no axial tilt."
   ]
  },
  {
   "cell_type": "code",
   "execution_count": 55,
   "id": "stainless-deposit",
   "metadata": {},
   "outputs": [],
   "source": [
    "S = S_0 * np.cos(phi)"
   ]
  },
  {
   "cell_type": "markdown",
   "id": "exact-deviation",
   "metadata": {},
   "source": [
    "Next, we define an albedo function. For simplicity, we set\n",
    "$$\\alpha(\\varphi) = \\begin{cases}\n",
    "0.3 & T(\\varphi) > 273\\textrm{ K} \\\\\n",
    "0.6 & T(\\varphi) \\leq 273 \\textrm{ K}\n",
    "\\end{cases}$$\n",
    "In other words, when the temperature falls below freezing, the albedo jumps from $0.3$ to $0.6$."
   ]
  },
  {
   "cell_type": "code",
   "execution_count": 56,
   "id": "isolated-representation",
   "metadata": {},
   "outputs": [],
   "source": [
    "def albedo(T):\n",
    "    alpha = np.zeros(T.shape)\n",
    "    alpha[T > 273] = 0.3\n",
    "    alpha[T <= 273] = 0.6\n",
    "    \n",
    "    return alpha"
   ]
  },
  {
   "cell_type": "markdown",
   "id": "voluntary-improvement",
   "metadata": {},
   "source": [
    "## Estimating Derivatives in $\\varphi$ ##\n",
    "\n",
    "The last thing we need before we can begin seeking equilibria is some way to estimate $T_{\\varphi\\varphi}$. For latitudes in the interior of the domain, we can use a centered finite difference approximation:\n",
    "$$\\frac{\\partial^2 T}{\\partial\\varphi^2}(\\varphi) \\approx \\frac{T(\\varphi + \\mathrm{d}\\varphi) - 2T(\\varphi) + T(\\varphi - \\mathrm{d}\\varphi)}{(\\mathrm{d}\\varphi)^2}$$\n",
    "Then we just use the appropriate second-order forward/backward forward/backward difference at the edges. For convenience, we wrap the calculation of derivatives in with multiplication by $D$ in a single function to compute the diffusion term."
   ]
  },
  {
   "cell_type": "code",
   "execution_count": 57,
   "id": "opening-monkey",
   "metadata": {},
   "outputs": [],
   "source": [
    "def diffusion(T):\n",
    "    out = np.zeros(T.shape)\n",
    "    out[0] = (T[2] - 2 * T[1] + T[0]) / (dphi ** 2)\n",
    "    out[1:-1] = (T[:-2] - 2 * T[1:-1] + T[2:]) / (dphi ** 2)\n",
    "    out[-1] = (T[-1] - 2 * T[-2] + T[-3]) / (dphi ** 2)\n",
    "    \n",
    "    return D * out"
   ]
  },
  {
   "cell_type": "markdown",
   "id": "yellow-crash",
   "metadata": {},
   "source": [
    "## Iterating Towards Equilibrium ##\n",
    "\n",
    "Now we implement a loop to step the provided initial temperature towards equilibrium."
   ]
  },
  {
   "cell_type": "code",
   "execution_count": 58,
   "id": "fatty-observer",
   "metadata": {},
   "outputs": [
    {
     "name": "stdout",
     "output_type": "stream",
     "text": [
      "Iteration 100000: 46.81717192724002\n",
      "Iteration 200000: 32.88906663992417\n",
      "Iteration 300000: 38.39713255217977\n",
      "Iteration 400000: 55.20912684822139\n",
      "Iteration 500000: 75.31860442415298\n"
     ]
    },
    {
     "ename": "KeyboardInterrupt",
     "evalue": "",
     "output_type": "error",
     "traceback": [
      "\u001b[0;31m---------------------------------------------------------------------------\u001b[0m",
      "\u001b[0;31mKeyboardInterrupt\u001b[0m                         Traceback (most recent call last)",
      "\u001b[0;32m<ipython-input-58-ba2cb69ee68b>\u001b[0m in \u001b[0;36m<module>\u001b[0;34m\u001b[0m\n\u001b[1;32m     24\u001b[0m     \u001b[0;32mreturn\u001b[0m \u001b[0mT\u001b[0m\u001b[0;34m\u001b[0m\u001b[0;34m\u001b[0m\u001b[0m\n\u001b[1;32m     25\u001b[0m \u001b[0;34m\u001b[0m\u001b[0m\n\u001b[0;32m---> 26\u001b[0;31m \u001b[0mT\u001b[0m \u001b[0;34m=\u001b[0m \u001b[0mequilibriate\u001b[0m\u001b[0;34m(\u001b[0m\u001b[0mT_0\u001b[0m\u001b[0;34m)\u001b[0m\u001b[0;34m\u001b[0m\u001b[0;34m\u001b[0m\u001b[0m\n\u001b[0m\u001b[1;32m     27\u001b[0m \u001b[0max\u001b[0m\u001b[0;34m.\u001b[0m\u001b[0mplot\u001b[0m\u001b[0;34m(\u001b[0m\u001b[0mphi\u001b[0m\u001b[0;34m,\u001b[0m \u001b[0mT\u001b[0m\u001b[0;34m)\u001b[0m\u001b[0;34m\u001b[0m\u001b[0;34m\u001b[0m\u001b[0m\n",
      "\u001b[0;32m<ipython-input-58-ba2cb69ee68b>\u001b[0m in \u001b[0;36mequilibriate\u001b[0;34m(T_0, max_iter)\u001b[0m\n\u001b[1;32m      9\u001b[0m \u001b[0;34m\u001b[0m\u001b[0m\n\u001b[1;32m     10\u001b[0m     \u001b[0mn_iter\u001b[0m \u001b[0;34m=\u001b[0m \u001b[0;36m0\u001b[0m\u001b[0;34m\u001b[0m\u001b[0;34m\u001b[0m\u001b[0m\n\u001b[0;32m---> 11\u001b[0;31m     \u001b[0;32mwhile\u001b[0m \u001b[0mabs\u001b[0m\u001b[0;34m(\u001b[0m\u001b[0mdTdt\u001b[0m\u001b[0;34m)\u001b[0m\u001b[0;34m.\u001b[0m\u001b[0mmax\u001b[0m\u001b[0;34m(\u001b[0m\u001b[0;34m)\u001b[0m \u001b[0;34m>\u001b[0m \u001b[0;36m1e-2\u001b[0m \u001b[0;32mand\u001b[0m \u001b[0mn_iter\u001b[0m \u001b[0;34m<\u001b[0m \u001b[0mmax_iter\u001b[0m\u001b[0;34m:\u001b[0m\u001b[0;34m\u001b[0m\u001b[0;34m\u001b[0m\u001b[0m\n\u001b[0m\u001b[1;32m     12\u001b[0m         dTdt = (\n\u001b[1;32m     13\u001b[0m             \u001b[0mS\u001b[0m \u001b[0;34m*\u001b[0m \u001b[0;34m(\u001b[0m\u001b[0;36m1\u001b[0m \u001b[0;34m-\u001b[0m \u001b[0malbedo\u001b[0m\u001b[0;34m(\u001b[0m\u001b[0mT\u001b[0m\u001b[0;34m)\u001b[0m\u001b[0;34m)\u001b[0m \u001b[0;34m-\u001b[0m\u001b[0;34m\u001b[0m\u001b[0;34m\u001b[0m\u001b[0m\n",
      "\u001b[0;32m~/miniconda3/envs/vlad/lib/python3.8/site-packages/numpy/core/_methods.py\u001b[0m in \u001b[0;36m_amax\u001b[0;34m(a, axis, out, keepdims, initial, where)\u001b[0m\n\u001b[1;32m     37\u001b[0m def _amax(a, axis=None, out=None, keepdims=False,\n\u001b[1;32m     38\u001b[0m           initial=_NoValue, where=True):\n\u001b[0;32m---> 39\u001b[0;31m     \u001b[0;32mreturn\u001b[0m \u001b[0mumr_maximum\u001b[0m\u001b[0;34m(\u001b[0m\u001b[0ma\u001b[0m\u001b[0;34m,\u001b[0m \u001b[0maxis\u001b[0m\u001b[0;34m,\u001b[0m \u001b[0;32mNone\u001b[0m\u001b[0;34m,\u001b[0m \u001b[0mout\u001b[0m\u001b[0;34m,\u001b[0m \u001b[0mkeepdims\u001b[0m\u001b[0;34m,\u001b[0m \u001b[0minitial\u001b[0m\u001b[0;34m,\u001b[0m \u001b[0mwhere\u001b[0m\u001b[0;34m)\u001b[0m\u001b[0;34m\u001b[0m\u001b[0;34m\u001b[0m\u001b[0m\n\u001b[0m\u001b[1;32m     40\u001b[0m \u001b[0;34m\u001b[0m\u001b[0m\n\u001b[1;32m     41\u001b[0m def _amin(a, axis=None, out=None, keepdims=False,\n",
      "\u001b[0;31mKeyboardInterrupt\u001b[0m: "
     ]
    },
    {
     "data": {
      "image/png": "[encoded data removed]",
      "text/plain": [
       "<Figure size 432x288 with 1 Axes>"
      ]
     },
     "metadata": {
      "needs_background": "light"
     },
     "output_type": "display_data"
    }
   ],
   "source": [
    "%matplotlib inline\n",
    "_, ax = plt.subplots()\n",
    "ax.plot(phi, T_0)\n",
    "\n",
    "\n",
    "def equilibriate(T_0, max_iter=1e6):\n",
    "    T = T_0\n",
    "    dTdt = np.inf * np.ones(T.shape)\n",
    "    \n",
    "    n_iter = 0\n",
    "    while abs(dTdt).max() > 1e-2 and n_iter < max_iter:\n",
    "        dTdt = (\n",
    "            S * (1 - albedo(T)) -\n",
    "            (1 - 0.5 * eps) * sigma * (T ** 4) +\n",
    "            diffusion(T)\n",
    "        )\n",
    "        \n",
    "        T = T + dTdt * dt\n",
    "        n_iter = n_iter + 1\n",
    "        \n",
    "        if n_iter % int(max_iter / 10) == 0:\n",
    "            print(f'Iteration {n_iter}: {abs(dTdt).max()}')\n",
    "            \n",
    "    return T\n",
    "\n",
    "T = equilibriate(T_0)\n",
    "ax.plot(phi, T)"
   ]
  }
 ],
 "metadata": {
  "celltoolbar": "Raw Cell Format",
  "kernelspec": {
   "display_name": "Python 3",
   "language": "python",
   "name": "python3"
  },
  "language_info": {
   "codemirror_mode": {
    "name": "ipython",
    "version": 3
   },
   "file_extension": ".py",
   "mimetype": "text/x-python",
   "name": "python",
   "nbconvert_exporter": "python",
   "pygments_lexer": "ipython3",
   "version": "3.8.5"
  }
 },
 "nbformat": 4,
 "nbformat_minor": 5
}
